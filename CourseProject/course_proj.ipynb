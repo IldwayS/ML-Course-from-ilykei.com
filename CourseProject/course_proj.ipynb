{
  "nbformat": 4,
  "nbformat_minor": 0,
  "metadata": {
    "colab": {
      "provenance": []
    },
    "kernelspec": {
      "name": "python3",
      "display_name": "Python 3"
    },
    "language_info": {
      "name": "python"
    }
  },
  "cells": [
    {
      "cell_type": "code",
      "source": [
        "!pip install --upgrade xgboost"
      ],
      "metadata": {
        "colab": {
          "base_uri": "https://localhost:8080/"
        },
        "id": "PrZc1e0FlYcB",
        "outputId": "94c16d68-9ef4-414a-d092-ec678a70058a"
      },
      "execution_count": 6,
      "outputs": [
        {
          "output_type": "stream",
          "name": "stdout",
          "text": [
            "Requirement already satisfied: xgboost in /usr/local/lib/python3.11/dist-packages (2.1.4)\n",
            "Collecting xgboost\n",
            "  Downloading xgboost-3.0.1-py3-none-manylinux_2_28_x86_64.whl.metadata (2.1 kB)\n",
            "Requirement already satisfied: numpy in /usr/local/lib/python3.11/dist-packages (from xgboost) (2.0.2)\n",
            "Requirement already satisfied: nvidia-nccl-cu12 in /usr/local/lib/python3.11/dist-packages (from xgboost) (2.21.5)\n",
            "Requirement already satisfied: scipy in /usr/local/lib/python3.11/dist-packages (from xgboost) (1.15.3)\n",
            "Downloading xgboost-3.0.1-py3-none-manylinux_2_28_x86_64.whl (253.9 MB)\n",
            "\u001b[2K   \u001b[90m━━━━━━━━━━━━━━━━━━━━━━━━━━━━━━━━━━━━━━━━\u001b[0m \u001b[32m253.9/253.9 MB\u001b[0m \u001b[31m4.5 MB/s\u001b[0m eta \u001b[36m0:00:00\u001b[0m\n",
            "\u001b[?25hInstalling collected packages: xgboost\n",
            "  Attempting uninstall: xgboost\n",
            "    Found existing installation: xgboost 2.1.4\n",
            "    Uninstalling xgboost-2.1.4:\n",
            "      Successfully uninstalled xgboost-2.1.4\n",
            "Successfully installed xgboost-3.0.1\n"
          ]
        }
      ]
    },
    {
      "cell_type": "code",
      "source": [
        "import pandas as pd\n",
        "import numpy as np\n",
        "from sklearn.model_selection import train_test_split\n",
        "from sklearn.preprocessing import LabelEncoder\n",
        "from xgboost import XGBClassifier\n",
        "from sklearn.metrics import log_loss\n",
        "import warnings\n",
        "warnings.filterwarnings('ignore')\n",
        "\n",
        "\n",
        "train = pd.read_csv('train_sample.csv')\n",
        "test = pd.read_csv('test_sample.csv')\n",
        "\n",
        "X = train.drop(columns=['target'])\n",
        "y = train['target']\n",
        "\n",
        "le = LabelEncoder()\n",
        "y_encoded = le.fit_transform(y)\n",
        "\n",
        "X_train, X_valid, y_train, y_valid = train_test_split(\n",
        "    X, y_encoded, test_size=0.2, random_state=42)\n",
        "\n",
        "params = {\n",
        "    'objective': 'multi:softprob',\n",
        "    'num_class': 9,\n",
        "    'learning_rate': 0.05,\n",
        "    'max_depth': 8,\n",
        "    'subsample': 0.8,\n",
        "    'colsample_bytree': 0.8,\n",
        "    'reg_alpha': 0.1,\n",
        "    'reg_lambda': 0.1,\n",
        "    'n_estimators': 500,\n",
        "    'random_state': 42,\n",
        "    'eval_metric': 'mlogloss'\n",
        "}\n",
        "\n",
        "model = XGBClassifier(**params)\n",
        "eval_set = [(X_valid, y_valid)]\n",
        "model.fit(X_train, y_train,\n",
        "          eval_set=eval_set,\n",
        "          verbose=10)\n",
        "\n",
        "valid_probs = model.predict_proba(X_valid)\n",
        "print(f\"Validation Logloss: {log_loss(y_valid, valid_probs):.6f}\")\n",
        "\n",
        "test_probs = model.predict_proba(test.drop(columns=['id']))\n",
        "\n",
        "submission = pd.DataFrame({\n",
        "    'id': test['id'],\n",
        "    **{f'class{i+1}': test_probs[:, i] for i in range(9)}\n",
        "})\n",
        "\n",
        "submission.to_csv('submission.csv', index=False)\n",
        "print(\"\\nФайл submission.csv готов для загрузки\")"
      ],
      "metadata": {
        "colab": {
          "base_uri": "https://localhost:8080/"
        },
        "id": "fP1Hg35kldq-",
        "outputId": "f6f268f7-a015-44ab-895f-4cc273826806"
      },
      "execution_count": 8,
      "outputs": [
        {
          "output_type": "stream",
          "name": "stdout",
          "text": [
            "[0]\tvalidation_0-mlogloss:2.07437\n",
            "[10]\tvalidation_0-mlogloss:1.42911\n",
            "[20]\tvalidation_0-mlogloss:1.12635\n",
            "[30]\tvalidation_0-mlogloss:0.94735\n",
            "[40]\tvalidation_0-mlogloss:0.82978\n",
            "[50]\tvalidation_0-mlogloss:0.75023\n",
            "[60]\tvalidation_0-mlogloss:0.69386\n",
            "[70]\tvalidation_0-mlogloss:0.65261\n",
            "[80]\tvalidation_0-mlogloss:0.62329\n",
            "[90]\tvalidation_0-mlogloss:0.60139\n",
            "[100]\tvalidation_0-mlogloss:0.58462\n",
            "[110]\tvalidation_0-mlogloss:0.57143\n",
            "[120]\tvalidation_0-mlogloss:0.56037\n",
            "[130]\tvalidation_0-mlogloss:0.55111\n",
            "[140]\tvalidation_0-mlogloss:0.54384\n",
            "[150]\tvalidation_0-mlogloss:0.53718\n",
            "[160]\tvalidation_0-mlogloss:0.53169\n",
            "[170]\tvalidation_0-mlogloss:0.52674\n",
            "[180]\tvalidation_0-mlogloss:0.52259\n",
            "[190]\tvalidation_0-mlogloss:0.51886\n",
            "[200]\tvalidation_0-mlogloss:0.51547\n",
            "[210]\tvalidation_0-mlogloss:0.51289\n",
            "[220]\tvalidation_0-mlogloss:0.51053\n",
            "[230]\tvalidation_0-mlogloss:0.50814\n",
            "[240]\tvalidation_0-mlogloss:0.50601\n",
            "[250]\tvalidation_0-mlogloss:0.50422\n",
            "[260]\tvalidation_0-mlogloss:0.50282\n",
            "[270]\tvalidation_0-mlogloss:0.50115\n",
            "[280]\tvalidation_0-mlogloss:0.49979\n",
            "[290]\tvalidation_0-mlogloss:0.49868\n",
            "[300]\tvalidation_0-mlogloss:0.49777\n",
            "[310]\tvalidation_0-mlogloss:0.49691\n",
            "[320]\tvalidation_0-mlogloss:0.49596\n",
            "[330]\tvalidation_0-mlogloss:0.49520\n",
            "[340]\tvalidation_0-mlogloss:0.49464\n",
            "[350]\tvalidation_0-mlogloss:0.49427\n",
            "[360]\tvalidation_0-mlogloss:0.49373\n",
            "[370]\tvalidation_0-mlogloss:0.49328\n",
            "[380]\tvalidation_0-mlogloss:0.49296\n",
            "[390]\tvalidation_0-mlogloss:0.49243\n",
            "[400]\tvalidation_0-mlogloss:0.49219\n",
            "[410]\tvalidation_0-mlogloss:0.49190\n",
            "[420]\tvalidation_0-mlogloss:0.49201\n",
            "[430]\tvalidation_0-mlogloss:0.49189\n",
            "[440]\tvalidation_0-mlogloss:0.49189\n",
            "[450]\tvalidation_0-mlogloss:0.49208\n",
            "[460]\tvalidation_0-mlogloss:0.49242\n",
            "[470]\tvalidation_0-mlogloss:0.49276\n",
            "[480]\tvalidation_0-mlogloss:0.49291\n",
            "[490]\tvalidation_0-mlogloss:0.49303\n",
            "[499]\tvalidation_0-mlogloss:0.49297\n",
            "Validation Logloss: 0.492974\n",
            "\n",
            "Файл submission.csv готов для загрузки\n"
          ]
        }
      ]
    }
  ]
}