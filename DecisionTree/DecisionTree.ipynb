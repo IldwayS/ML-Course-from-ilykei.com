{
  "nbformat": 4,
  "nbformat_minor": 0,
  "metadata": {
    "colab": {
      "provenance": []
    },
    "kernelspec": {
      "name": "python3",
      "display_name": "Python 3"
    },
    "language_info": {
      "name": "python"
    }
  },
  "cells": [
    {
      "cell_type": "code",
      "source": [
        "import pandas as pd\n",
        "import numpy as np\n",
        "from sklearn.tree import DecisionTreeRegressor\n",
        "from sklearn.model_selection import GridSearchCV\n",
        "from sklearn.metrics import mean_squared_error\n",
        "import os\n",
        "\n",
        "# Чтение данных\n",
        "data = pd.read_csv('test_sample.csv')\n",
        "X = data[['X1', 'X2', 'X3']]\n",
        "y = data['Y']\n",
        "\n",
        "# 1. Поиск оптимального ccp_alpha\n",
        "param_grid = {'ccp_alpha': np.linspace(0.01, 0.1, 10)}\n",
        "tree = DecisionTreeRegressor(random_state=0)\n",
        "grid_search = GridSearchCV(tree, param_grid, cv=10, scoring='neg_mean_squared_error')\n",
        "grid_search.fit(X, y)\n",
        "\n",
        "# Лучший параметр\n",
        "best_ccp_alpha = grid_search.best_params_['ccp_alpha']\n",
        "\n",
        "# 2. Обучение модели с оптимальным параметром\n",
        "best_tree = DecisionTreeRegressor(ccp_alpha=best_ccp_alpha, random_state=0)\n",
        "best_tree.fit(X, y)\n",
        "y_pred = best_tree.predict(X)\n",
        "mse = mean_squared_error(y, y_pred)\n",
        "\n",
        "# Вывод результатов\n",
        "print(f\"Оптимальный ccp_alpha: {best_ccp_alpha:.4f}\")\n",
        "print(f\"MSE дерева регрессии: {mse:.4f}\")\n",
        "\n",
        "# Для вставки в Quiz:\n",
        "print(\"\\nДля вставки в Quiz:\")\n",
        "print(f\"1. {best_ccp_alpha:.4f}\")\n",
        "print(f\"2. {mse:.4f}\")"
      ],
      "metadata": {
        "colab": {
          "base_uri": "https://localhost:8080/"
        },
        "id": "0IzGgPBtwWjC",
        "outputId": "3f8c77bd-ba6a-4b84-b845-1cd3b0f9b53a"
      },
      "execution_count": 9,
      "outputs": [
        {
          "output_type": "stream",
          "name": "stdout",
          "text": [
            "Оптимальный ccp_alpha: 0.1000\n",
            "MSE дерева регрессии: 9.9430\n",
            "\n",
            "Для вставки в Quiz:\n",
            "1. 0.1000\n",
            "2. 9.9430\n"
          ]
        }
      ]
    }
  ]
}