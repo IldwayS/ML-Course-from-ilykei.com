{
  "nbformat": 4,
  "nbformat_minor": 0,
  "metadata": {
    "colab": {
      "provenance": []
    },
    "kernelspec": {
      "name": "python3",
      "display_name": "Python 3"
    },
    "language_info": {
      "name": "python"
    }
  },
  "cells": [
    {
      "cell_type": "code",
      "source": [
        "import pandas as pd\n",
        "import numpy as np\n",
        "from sklearn.svm import SVC\n",
        "from sklearn.model_selection import GridSearchCV\n",
        "from sklearn.preprocessing import StandardScaler\n",
        "from sklearn.pipeline import Pipeline\n",
        "\n",
        "train = pd.read_csv('train_sample.csv')\n",
        "test = pd.read_csv('test_sample.csv')\n",
        "\n",
        "X_train = train[['x0', 'x1']]\n",
        "y_train = train['class']\n",
        "X_test = test[['x0', 'x1']]\n",
        "\n",
        "pipe = Pipeline([\n",
        "    ('scaler', StandardScaler()),\n",
        "    ('svc', SVC(random_state=0))\n",
        "])\n",
        "\n",
        "param_grid = {\n",
        "    'svc__gamma': [0.1, 1, 10, 100, 1000],\n",
        "    'svc__C': [1000, 10000, 100000]\n",
        "}\n",
        "\n",
        "grid = GridSearchCV(pipe, param_grid, cv=5, scoring='accuracy')\n",
        "grid.fit(X_train, y_train)\n",
        "\n",
        "best_model = grid.best_estimator_\n",
        "print(f\"Best parameters: {grid.best_params_}\")\n",
        "print(f\"Best CV accuracy: {grid.best_score_:.4f}\")\n",
        "\n",
        "test_prediction = best_model.predict(X_test)\n",
        "\n",
        "submission = test[['ID']].copy()\n",
        "submission['class'] = test_prediction\n",
        "submission.to_csv('submission.csv', index=False)\n",
        "\n",
        "print(\"\\nPredictions saved to submission.csv\")\n",
        "print(\"Upload this file using the sidebar\")"
      ],
      "metadata": {
        "colab": {
          "base_uri": "https://localhost:8080/"
        },
        "id": "0IzGgPBtwWjC",
        "outputId": "0994f0aa-f18b-48d2-b81f-ad937d18eced"
      },
      "execution_count": null,
      "outputs": [
        {
          "output_type": "stream",
          "name": "stdout",
          "text": [
            "Best parameters: {'svc__C': 10000, 'svc__gamma': 0.1}\n",
            "Best CV accuracy: 0.9460\n",
            "\n",
            "Predictions saved to submission.csv\n",
            "Upload this file using the sidebar\n"
          ]
        }
      ]
    }
  ]
}