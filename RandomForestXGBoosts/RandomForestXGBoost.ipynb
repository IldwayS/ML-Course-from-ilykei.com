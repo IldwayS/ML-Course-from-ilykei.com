{
  "nbformat": 4,
  "nbformat_minor": 0,
  "metadata": {
    "colab": {
      "provenance": []
    },
    "kernelspec": {
      "name": "python3",
      "display_name": "Python 3"
    },
    "language_info": {
      "name": "python"
    }
  },
  "cells": [
    {
      "cell_type": "code",
      "source": [
        "import pandas as pd\n",
        "import numpy as np\n",
        "import xgboost as xgb\n",
        "from sklearn.ensemble import RandomForestClassifier\n",
        "from sklearn.model_selection import train_test_split\n",
        "import os\n",
        "\n",
        "# Чтение данных\n",
        "train = pd.read_csv('train_sample.csv')\n",
        "test = pd.read_csv('test_sample.csv')\n",
        "\n",
        "# Подготовка данных\n",
        "X_train = train.drop(columns=['class'])\n",
        "y_train = train['class']\n",
        "X_test = test.copy()\n",
        "\n",
        "# 1. XGBoost с кросс-валидацией\n",
        "dtrain = xgb.DMatrix(X_train, label=y_train)\n",
        "\n",
        "params = {\n",
        "    'objective': 'binary:logistic',\n",
        "    'eval_metric': 'auc',\n",
        "    'seed': 0\n",
        "}\n",
        "\n",
        "cv_results = xgb.cv(\n",
        "    params,\n",
        "    dtrain,\n",
        "    num_boost_round=100,\n",
        "    nfold=5,\n",
        "    stratified=True,\n",
        "    early_stopping_rounds=10,\n",
        "    seed=0\n",
        ")\n",
        "\n",
        "best_rounds = cv_results.shape[0]\n",
        "\n",
        "# Обучение финальной модели XGBoost\n",
        "model_xgb = xgb.train(params, dtrain, num_boost_round=best_rounds)\n",
        "dtest = xgb.DMatrix(X_test)\n",
        "prediction = model_xgb.predict(dtest)\n",
        "\n",
        "# 2. Random Forest\n",
        "rf = RandomForestClassifier(random_state=0)\n",
        "rf.fit(X_train, y_train)\n",
        "\n",
        "# Находим самую важную фичу\n",
        "importances = rf.feature_importances_\n",
        "rf_most_important = np.argmax(importances) + 1  # Индексация с 1\n",
        "\n",
        "# Сохранение результатов\n",
        "np.savez('submission.npz',\n",
        "         rf_most_important=rf_most_important,\n",
        "         prediction=prediction)\n",
        "\n",
        "# Проверка содержимого\n",
        "npzfile = np.load('submission.npz')\n",
        "print(f\"Самая важная фича Random Forest: {npzfile['rf_most_important']}\")\n",
        "print(f\"Форма предсказаний XGBoost: {npzfile['prediction'].shape}\")\n",
        "print(\"\\nФайл 'submission.npz' готов для загрузки\")"
      ],
      "metadata": {
        "colab": {
          "base_uri": "https://localhost:8080/"
        },
        "id": "0IzGgPBtwWjC",
        "outputId": "530f0d58-99ea-420c-a1df-098231669c9a"
      },
      "execution_count": 11,
      "outputs": [
        {
          "output_type": "stream",
          "name": "stdout",
          "text": [
            "Самая важная фича Random Forest: 7\n",
            "Форма предсказаний XGBoost: (500,)\n",
            "\n",
            "Файл 'submission.npz' готов для загрузки\n"
          ]
        }
      ]
    }
  ]
}