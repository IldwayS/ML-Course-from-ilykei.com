{
  "nbformat": 4,
  "nbformat_minor": 0,
  "metadata": {
    "colab": {
      "provenance": []
    },
    "kernelspec": {
      "name": "python3",
      "display_name": "Python 3"
    },
    "language_info": {
      "name": "python"
    }
  },
  "cells": [
    {
      "cell_type": "code",
      "source": [
        "import pandas as pd\n",
        "import numpy as np\n",
        "from sklearn.linear_model import LassoCV\n",
        "import statsmodels.api as sm\n",
        "import os\n",
        "\n",
        "# Чтение данных\n",
        "data = pd.read_csv('test_sample.csv')\n",
        "X = data.drop(columns=['Y'])\n",
        "y = data['Y']\n",
        "\n",
        "# 1. Lasso регрессия\n",
        "lasso_cv = LassoCV(cv=5, random_state=1)\n",
        "lasso_cv.fit(X, y)\n",
        "\n",
        "# Находим исключенные предикторы (коэффициенты = 0)\n",
        "eliminated_by_Lasso = np.where(lasso_cv.coef_ == 0)[0].tolist()\n",
        "\n",
        "# 2. Линейная регрессия\n",
        "X_with_const = sm.add_constant(X)\n",
        "model = sm.OLS(y, X_with_const).fit()\n",
        "\n",
        "# Находим исключенные предикторы (p-value > 0.1)\n",
        "p_values = model.pvalues[1:]  # Игнорируем константу\n",
        "eliminated_by_lm = np.where(p_values > 0.1)[0].tolist()\n",
        "\n",
        "# Подготовка ответа\n",
        "lasso_zeros = ' '.join(map(str, eliminated_by_Lasso))\n",
        "lm_zeros = ' '.join(map(str, eliminated_by_lm))\n",
        "\n",
        "# Создание файла с ответами\n",
        "result = pd.DataFrame([lasso_zeros, lm_zeros],\n",
        "                     index=['eliminated_by_Lasso', 'eliminated_by_lm'])\n",
        "result.to_csv('answer.csv')\n",
        "\n",
        "# Вывод результатов\n",
        "print(\"Исключенные Lasso:\", lasso_zeros)\n",
        "print(\"Исключенные линейной моделью:\", lm_zeros)\n",
        "print(\"\\nРезультаты сохранены в answer.csv\")"
      ],
      "metadata": {
        "colab": {
          "base_uri": "https://localhost:8080/"
        },
        "id": "dmQzQcYBrSPj",
        "outputId": "658ca795-b0bd-4b27-cb0c-c1923ca6328b"
      },
      "execution_count": 4,
      "outputs": [
        {
          "output_type": "stream",
          "name": "stdout",
          "text": [
            "Исключенные Lasso: 14 21 40 54 69 73 115 122 141 143 147 174 184 209 258 262 263 266 287 306 308 333 355 359 376 428 479\n",
            "Исключенные линейной моделью: 40 43 60 67 69 73 125 132 143 155 156 197 228 231 362 409 450\n",
            "\n",
            "Результаты сохранены в answer.csv\n"
          ]
        }
      ]
    }
  ]
}