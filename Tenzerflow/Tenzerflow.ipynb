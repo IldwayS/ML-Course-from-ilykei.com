{
  "nbformat": 4,
  "nbformat_minor": 0,
  "metadata": {
    "colab": {
      "provenance": []
    },
    "kernelspec": {
      "name": "python3",
      "display_name": "Python 3"
    },
    "language_info": {
      "name": "python"
    }
  },
  "cells": [
    {
      "cell_type": "code",
      "source": [
        "import numpy as np\n",
        "from tensorflow.keras.models import Sequential\n",
        "from tensorflow.keras.layers import Dense, Dropout, Activation, Reshape, Flatten, Lambda, InputLayer\n",
        "import tensorflow.keras.backend as K\n",
        "\n",
        "# Кастомная lambda-функция min_plus_square (примерно)\n",
        "def min_plus_square(x):\n",
        "    return K.square(K.relu(x))\n",
        "\n",
        "# Модель по схеме\n",
        "model = Sequential([\n",
        "    InputLayer(input_shape=(10,)),                     # (None, 10)\n",
        "    Dense(20),                                         # (None, 20)\n",
        "    Dropout(0.3),                                      # (None, 20)\n",
        "    Lambda(min_plus_square, name=\"min_plus_square\"),   # (None, 20)\n",
        "    Activation('relu'),                               # (None, 20)\n",
        "    Reshape((4, 5)),                                   # (None, 4, 5)\n",
        "    Dense(10),                                         # (None, 4, 10)\n",
        "    Activation('relu'),                               # (None, 4, 10)\n",
        "    Flatten(),                                         # (None, 40)\n",
        "    Lambda(K.exp, name=\"exp\"),                         # (None, 40)\n",
        "    Dense(3, name=\"Output\"),                           # (None, 3)\n",
        "    Activation('softmax'),                             # (None, 3)\n",
        "    Lambda(lambda x: K.max(x, axis=1, keepdims=True), name=\"max\")  # (None, 1)\n",
        "])\n",
        "\n",
        "# Пример входных данных\n",
        "data = np.arange(10).reshape((1, -1))\n",
        "\n",
        "# Предсказание\n",
        "prediction = model.predict(data)\n",
        "print(prediction[0][0])\n"
      ],
      "metadata": {
        "colab": {
          "base_uri": "https://localhost:8080/"
        },
        "id": "eDqPKi3zjBfP",
        "outputId": "4c40eb5f-cd79-4bcc-96c8-c26fd62b6ca4"
      },
      "execution_count": 4,
      "outputs": [
        {
          "output_type": "stream",
          "name": "stdout",
          "text": [
            "\u001b[1m1/1\u001b[0m \u001b[32m━━━━━━━━━━━━━━━━━━━━\u001b[0m\u001b[37m\u001b[0m \u001b[1m0s\u001b[0m 148ms/step\n",
            "1.0\n"
          ]
        }
      ]
    }
  ]
}